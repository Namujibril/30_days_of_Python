{
 "cells": [
  {
   "cell_type": "markdown",
   "metadata": {},
   "source": [
    "### Write a code which gives grade to students according to theirs scores:"
   ]
  },
  {
   "cell_type": "code",
   "execution_count": null,
   "metadata": {},
   "outputs": [],
   "source": [
    "student_score = int(input(\"Enter your score: \"))\n",
    "if student_score > 79 and student_score < 101 :\n",
    "  print(\"You scored A\")\n",
    "elif student_score > 69 and student_score < 80 :\n",
    "  print(\"You scored B\")\n",
    "elif student_score > 59 and student_score < 70 :\n",
    "  print(\"You scored C\")\n",
    "elif student_score > 49 and student_score < 60 :\n",
    "  print(\"You scored D\")\n",
    "elif student_score >= 0  and student_score < 50 :\n",
    "  print(\"You scored F\")\n",
    "else :\n",
    "   print(\"Out of the range\")"
   ]
  },
  {
   "cell_type": "markdown",
   "metadata": {},
   "source": [
    "### Check if the season is Autumn, Winter, Spring or Summer. If the user input is: September, October or November, the season is Autumn. December, January or February, the season is Winter. March, April or May, the season is Spring June, July or August, the season is Summer"
   ]
  },
  {
   "cell_type": "code",
   "execution_count": null,
   "metadata": {},
   "outputs": [],
   "source": [
    "weather = input(\"Enter the month: \")\n",
    "if weather == 'September' or weather == 'October' or weather == 'November' :\n",
    " print(\"The season is Autumn\")\n",
    "elif weather == 'December' or weather == 'January' or weather == \"February\" :\n",
    " print(\"The season is Winter\")\n",
    "elif weather == 'March' or weather == \"April\" or weather == 'May' :\n",
    " print(\"The season is Spring\")\n",
    "elif weather == \"June\" or weather == \"July\" or weather == 'August' :\n",
    "  print(\"The season is Summer\")\n",
    "else :\n",
    " print(\"Is not a valid month\")"
   ]
  },
  {
   "cell_type": "markdown",
   "metadata": {},
   "source": [
    "### The following list contains some fruits:"
   ]
  },
  {
   "cell_type": "code",
   "execution_count": null,
   "metadata": {
    "vscode": {
     "languageId": "shellscript"
    }
   },
   "outputs": [],
   "source": [
    "```sh\n",
    "fruits = ['banana', 'orange', 'mango', 'lemon']\n",
    "```\n",
    "\n",
    "If a fruit doesn't exist in the list add the fruit to the list and print the modified list. If the fruit exists print('That fruit already exist in the list')"
   ]
  },
  {
   "cell_type": "code",
   "execution_count": null,
   "metadata": {},
   "outputs": [],
   "source": [
    "fruits = [\"banana\", \"orange\", \"mango\", \"lemon\"]\n",
    "\n",
    "# Get fruit from the user\n",
    "fruit = input(\"Enter a fruit to add to the list: \")\n",
    "if fruit not in fruits:\n",
    "    fruits.append(fruit)\n",
    "    print(f\"{fruit} was added to the list.\")\n",
    "    print(fruits)\n",
    "else:\n",
    "  print(f\"{fruit} is already in the list.\")"
   ]
  }
 ],
 "metadata": {
  "language_info": {
   "name": "python"
  }
 },
 "nbformat": 4,
 "nbformat_minor": 2
}
