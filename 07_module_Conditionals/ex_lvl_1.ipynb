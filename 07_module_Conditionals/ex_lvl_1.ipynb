{
 "cells": [
  {
   "cell_type": "markdown",
   "metadata": {},
   "source": [
    "### Get user input using input(“Enter your age: ”). If user is 18 or older, give feedback: You are old enough to drive. If below 18 give feedback to wait for the missing amount of years. Output:"
   ]
  },
  {
   "cell_type": "code",
   "execution_count": null,
   "metadata": {},
   "outputs": [],
   "source": [
    "age = int(input(\"Enter your age: \"))\n",
    "if age >= 18 :\n",
    "  print(\"You are old enough to drive\")\n",
    "else :\n",
    "  print(\"Sorry you should wait to reach 18 years.\") "
   ]
  },
  {
   "cell_type": "markdown",
   "metadata": {},
   "source": [
    "### Compare the values of my_age and your_age using if … else. Who is older (me or you)? Use input(“Enter your age: ”) to get the age as input. You can use a nested condition to print 'year' for 1 year difference in age, 'years' for bigger differences, and a custom text if my_age = your_age. Output:"
   ]
  },
  {
   "cell_type": "code",
   "execution_count": null,
   "metadata": {},
   "outputs": [],
   "source": [
    "my_age = int(input(\"Enter your age: \"))\n",
    "your_age = int(input(\"Enter your age: \"))\n",
    "if my_age > your_age :\n",
    "  difference = my_age - your_age\n",
    "  if difference == 1 :\n",
    "    print(\"I am 1 year older than you\")\n",
    "  else:\n",
    "    print(f\"I am {difference} years older than you \")\n",
    "elif my_age == your_age :\n",
    "  print(\"There is no difference in our ages\")\n",
    "else :\n",
    "  print(\"You are older than me\")"
   ]
  },
  {
   "cell_type": "markdown",
   "metadata": {},
   "source": [
    "### Get two numbers from the user using input prompt. If a is greater than b return a is greater than b, if a is less b return a is smaller than b, else a is equal to b. Output:"
   ]
  },
  {
   "cell_type": "code",
   "execution_count": null,
   "metadata": {},
   "outputs": [],
   "source": [
    "a = int(input(\"Enter first number: \"))\n",
    "b = int(input(\"Enter second number: \"))\n",
    "if a > b:\n",
    " print(f\"{a} is greater than {b} \")\n",
    "elif a < b :\n",
    " print(f\"{a} is less than {b} \")\n",
    "else:\n",
    " print(f\"{a} is equal to {b}\")"
   ]
  }
 ],
 "metadata": {
  "kernelspec": {
   "display_name": "Python 3",
   "language": "python",
   "name": "python3"
  },
  "language_info": {
   "name": "python",
   "version": "3.10.12"
  }
 },
 "nbformat": 4,
 "nbformat_minor": 2
}
