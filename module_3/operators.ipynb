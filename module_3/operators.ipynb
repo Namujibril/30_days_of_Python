{
 "cells": [
  {
   "cell_type": "code",
   "execution_count": null,
   "metadata": {},
   "outputs": [],
   "source": [
    "# Declaring some variables\n",
    "age = 25       #integer\n",
    "height = 17.5  #float\n",
    "complex_number = 2 + 3j  #complex\n",
    "age\n",
    "complex_number"
   ]
  },
  {
   "cell_type": "code",
   "execution_count": null,
   "metadata": {},
   "outputs": [],
   "source": [
    "# A Script that prompt the user to enter the base and height of a triangle\n",
    "# and calculate the area\n",
    "\n",
    "base = float(input(\"Enter the base of the triangle: \"))\n",
    "height = float(input(\"Enter the height of the triangle: \"))\n",
    "area = 0.5 * (base * height)\n",
    "base\n",
    "print(\"The area of the triangle is: \", area)"
   ]
  },
  {
   "cell_type": "code",
   "execution_count": null,
   "metadata": {},
   "outputs": [],
   "source": [
    "# A script that prompt the user to enter side a, b and c of a triangle\n",
    "# and calculate the perimeter\n",
    "\n",
    "a = float(input(\"Enter the side 'a' of the triangle: \"))\n",
    "b = float(input(\"Enter the side 'b' of the triangle: \"))\n",
    "c = float(input(\"Enter the side 'c' of the triangle: \"))\n",
    "perimeter = a + b + c\n",
    "perimeter\n",
    "print(\"The perimeter of the triangle is: \", perimeter)"
   ]
  },
  {
   "cell_type": "code",
   "execution_count": null,
   "metadata": {},
   "outputs": [],
   "source": [
    "# Lenght and width of a rectangle\n",
    "lenght = float(input(\"Enter the length of the rectangle: \"))\n",
    "width = float(input(\"Enter the width of the rectangle: \"))\n",
    "area = lenght * width\n",
    "area\n",
    "print(\"The area of the rectangle is: \", area)\n",
    "perimeter = 2 * (lenght + width)\n",
    "perimeter\n",
    "print(\"The perimeter of the rectangle is: \", perimeter)"
   ]
  },
  {
   "cell_type": "code",
   "execution_count": null,
   "metadata": {},
   "outputs": [],
   "source": [
    "# prompt the user to enter the radius of a circle\n",
    "# and calculate the area and circumference\n",
    "\n",
    "radius = float(input(\"Enter the radius of the circle: \"))\n",
    "area = 3.14 * (radius ** 2)\n",
    "area\n",
    "print(\"The area of the circle is: \", area)\n",
    "circumference = 2 * 3.14 * radius\n",
    "circumference\n",
    "print(\"The circumference of the circle is: \", circumference)"
   ]
  },
  {
   "cell_type": "code",
   "execution_count": null,
   "metadata": {},
   "outputs": [
    {
     "name": "stdout",
     "output_type": "stream",
     "text": [
      "The slope of the line is:  2\n"
     ]
    }
   ],
   "source": [
    "# calculate the slope of x-intercept and y-intercept\n",
    "# y = mx + b\n",
    "m = 2 \n",
    "print(\"The slope of the line is: \", m)"
   ]
  },
  {
   "cell_type": "code",
   "execution_count": 8,
   "metadata": {},
   "outputs": [
    {
     "name": "stdout",
     "output_type": "stream",
     "text": [
      "The slope of the line is:  2.0\n",
      "The Euclidean distance between the two points is:  8.94427190999916\n"
     ]
    }
   ],
   "source": [
    "# slope and Euclidean distance\n",
    "# m = (y2 - y1) / (x2 - x1)\n",
    "# point(2,2) and point(6, 10)\n",
    "\n",
    "m = (10 - 2) / (6 - 2)\n",
    "print(\"The slope of the line is: \", m)\n",
    "\n",
    "euclidean_distance = ((6 - 2) ** 2 + (10 - 2) ** 2) ** 0.5\n",
    "print(\"The Euclidean distance between the two points is: \", euclidean_distance)"
   ]
  },
  {
   "cell_type": "markdown",
   "metadata": {},
   "source": [
    "The two slopes in task 8 and 9 are the same.\n",
    "which is 2.0"
   ]
  },
  {
   "cell_type": "code",
   "execution_count": null,
   "metadata": {},
   "outputs": [],
   "source": []
  }
 ],
 "metadata": {
  "kernelspec": {
   "display_name": "Python 3",
   "language": "python",
   "name": "python3"
  },
  "language_info": {
   "codemirror_mode": {
    "name": "ipython",
    "version": 3
   },
   "file_extension": ".py",
   "mimetype": "text/x-python",
   "name": "python",
   "nbconvert_exporter": "python",
   "pygments_lexer": "ipython3",
   "version": "3.10.12"
  }
 },
 "nbformat": 4,
 "nbformat_minor": 2
}
