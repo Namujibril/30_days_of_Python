{
 "cells": [
  {
   "cell_type": "markdown",
   "metadata": {},
   "source": [
    " Declaring some variables"
   ]
  },
  {
   "cell_type": "code",
   "execution_count": null,
   "metadata": {},
   "outputs": [
    {
     "data": {
      "text/plain": [
       "(2+3j)"
      ]
     },
     "execution_count": 1,
     "metadata": {},
     "output_type": "execute_result"
    }
   ],
   "source": [
    "age = 25       #integer\n",
    "height = 17.5  #float\n",
    "complex_number = 2 + 3j  #complex\n",
    "age\n",
    "complex_number"
   ]
  },
  {
   "cell_type": "markdown",
   "metadata": {},
   "source": [
    "A Script that prompt the user to enter the base and height of a triangle\n",
    "and calculate the area"
   ]
  },
  {
   "cell_type": "code",
   "execution_count": 2,
   "metadata": {},
   "outputs": [
    {
     "ename": "",
     "evalue": "",
     "output_type": "error",
     "traceback": [
      "\u001b[1;31mCannot execute code, session has been disposed. Please try restarting the Kernel."
     ]
    },
    {
     "ename": "",
     "evalue": "",
     "output_type": "error",
     "traceback": [
      "\u001b[1;31mCannot execute code, session has been disposed. Please try restarting the Kernel. \n",
      "\u001b[1;31mView Jupyter <a href='command:jupyter.viewOutput'>log</a> for further details."
     ]
    }
   ],
   "source": [
    "base = float(input(\"Enter the base of the triangle: \"))\n",
    "height = float(input(\"Enter the height of the triangle: \"))\n",
    "area = 0.5 * (base * height)\n",
    "base\n",
    "print(\"The area of the triangle is: \", area)"
   ]
  },
  {
   "cell_type": "markdown",
   "metadata": {},
   "source": [
    "A script that prompt the user to enter side a, b and c of a triangle and calculate the perimeter\n"
   ]
  },
  {
   "cell_type": "code",
   "execution_count": null,
   "metadata": {},
   "outputs": [],
   "source": [
    "a = float(input(\"Enter the side 'a' of the triangle: \"))\n",
    "b = float(input(\"Enter the side 'b' of the triangle: \"))\n",
    "c = float(input(\"Enter the side 'c' of the triangle: \"))\n",
    "perimeter = a + b + c\n",
    "perimeter\n",
    "print(\"The perimeter of the triangle is: \", perimeter)"
   ]
  },
  {
   "cell_type": "markdown",
   "metadata": {},
   "source": [
    "calculating lenght and width of a rectangle"
   ]
  },
  {
   "cell_type": "code",
   "execution_count": null,
   "metadata": {},
   "outputs": [],
   "source": [
    "lenght = float(input(\"Enter the length of the rectangle: \"))\n",
    "width = float(input(\"Enter the width of the rectangle: \"))\n",
    "area = lenght * width\n",
    "area\n",
    "print(\"The area of the rectangle is: \", area)\n",
    "perimeter = 2 * (lenght + width)\n",
    "perimeter\n",
    "print(\"The perimeter of the rectangle is: \", perimeter)"
   ]
  },
  {
   "cell_type": "markdown",
   "metadata": {},
   "source": [
    "prompt the user to enter the radius of a circle and calculate the area and circumference"
   ]
  },
  {
   "cell_type": "code",
   "execution_count": null,
   "metadata": {},
   "outputs": [],
   "source": [
    "radius = float(input(\"Enter the radius of the circle: \"))\n",
    "area = 3.14 * (radius ** 2)\n",
    "area\n",
    "print(\"The area of the circle is: \", area)\n",
    "circumference = 2 * 3.14 * radius\n",
    "circumference\n",
    "print(\"The circumference of the circle is: \", circumference)"
   ]
  },
  {
   "cell_type": "markdown",
   "metadata": {},
   "source": [
    "calculate the slope of x-intercept and y-intercept of y = 2x - 2"
   ]
  },
  {
   "cell_type": "code",
   "execution_count": null,
   "metadata": {},
   "outputs": [
    {
     "name": "stdout",
     "output_type": "stream",
     "text": [
      "The slope of the line is:  2\n"
     ]
    }
   ],
   "source": [
    "# y = 2x - 2\n",
    "# y = mx + b\n",
    "m = 2 \n",
    "print(\"The slope of the line is: \", m)"
   ]
  },
  {
   "cell_type": "markdown",
   "metadata": {},
   "source": [
    "Slope is (m = y2-y1/x2-x1). Find the slope and Euclidean distance between point (2, 2) and point (6,10)"
   ]
  },
  {
   "cell_type": "code",
   "execution_count": null,
   "metadata": {},
   "outputs": [
    {
     "name": "stdout",
     "output_type": "stream",
     "text": [
      "The slope of the line is:  2.0\n",
      "The Euclidean distance between the two points is:  8.94427190999916\n"
     ]
    }
   ],
   "source": [
    "# slope and Euclidean distance\n",
    "# m = (y2 - y1) / (x2 - x1)\n",
    "# point(2,2) and point(6, 10)\n",
    "\n",
    "m = (10 - 2) / (6 - 2)\n",
    "print(\"The slope of the line is: \", m)\n",
    "\n",
    "euclidean_distance = ((6 - 2) ** 2 + (10 - 2) ** 2) ** 0.5\n",
    "print(\"The Euclidean distance between the two points is: \", euclidean_distance)"
   ]
  },
  {
   "cell_type": "markdown",
   "metadata": {},
   "source": [
    "The two slopes in task 8 and 9 are the same.\n",
    "which is 2.0"
   ]
  },
  {
   "cell_type": "markdown",
   "metadata": {},
   "source": [
    "Calculate the value of y (y = x^2 + 6x + 9). Try to use different x values and figure out at what x value y is going to be 0."
   ]
  },
  {
   "cell_type": "code",
   "execution_count": null,
   "metadata": {},
   "outputs": [],
   "source": [
    "x = float(input(\"Enter the value of x: \"))\n",
    "y = x ** 2 + 6 * x + 9 \n",
    "print(\"The value of y is: \", y)\n",
    "\n",
    "# y can only be 0 when x = -3"
   ]
  },
  {
   "cell_type": "markdown",
   "metadata": {},
   "source": [
    " find the lenght of \"python\" and \"dragon\" and make a false comparison statement"
   ]
  },
  {
   "cell_type": "code",
   "execution_count": null,
   "metadata": {},
   "outputs": [
    {
     "name": "stdout",
     "output_type": "stream",
     "text": [
      "6\n",
      "6\n",
      "False\n",
      "False\n",
      "False\n"
     ]
    }
   ],
   "source": [
    "print(len(\"python\"))\n",
    "print(len(\"dragon\"))\n",
    "print(len(\"python\") > len(\"dragon\"))\n",
    "print(len(\"python\") < len(\"dragon\"))\n",
    "print(len(\"python\") != len(\"dragon\"))\n"
   ]
  },
  {
   "cell_type": "markdown",
   "metadata": {},
   "source": [
    "Use and operator to check if 'on' is found in both 'python' and 'dragon'"
   ]
  },
  {
   "cell_type": "code",
   "execution_count": null,
   "metadata": {},
   "outputs": [
    {
     "name": "stdout",
     "output_type": "stream",
     "text": [
      "True\n",
      "True\n",
      "True\n"
     ]
    }
   ],
   "source": [
    "print(\"on\" in \"python\")\n",
    "print(\"on\" in \"dragon\")\n",
    "print(\"on\" in \"python\" and \"on\" in \"dragon\")\n"
   ]
  },
  {
   "cell_type": "markdown",
   "metadata": {},
   "source": [
    "I hope this course is not full of jargon. Use in operator to check if jargon is in the sentence."
   ]
  },
  {
   "cell_type": "code",
   "execution_count": null,
   "metadata": {},
   "outputs": [
    {
     "name": "stdout",
     "output_type": "stream",
     "text": [
      "I hope this course is not full of jargon\n",
      "True\n"
     ]
    }
   ],
   "source": [
    "sentence = \"I hope this course is not full of jargon\"\n",
    "print(sentence)\n",
    "print(\"jargon\" in sentence)"
   ]
  },
  {
   "cell_type": "markdown",
   "metadata": {},
   "source": [
    "Find the length of the text python and convert the value to float and convert it to string"
   ]
  },
  {
   "cell_type": "code",
   "execution_count": null,
   "metadata": {},
   "outputs": [
    {
     "name": "stdout",
     "output_type": "stream",
     "text": [
      "6\n",
      "6.0\n",
      "6\n"
     ]
    }
   ],
   "source": [
    "print(len(\"python\"))\n",
    "print(float(len(\"python\")))\n",
    "print(str(len(\"python\")))  #convert to string '6'\n"
   ]
  },
  {
   "cell_type": "markdown",
   "metadata": {},
   "source": [
    "Even numbers are divisible by 2 and the remainder is zero. How do you check if a number is even or not using python?"
   ]
  },
  {
   "cell_type": "code",
   "execution_count": null,
   "metadata": {},
   "outputs": [],
   "source": [
    "number = int(input(\"Enter a number: \"))\n",
    "if number % 2 == 0:\n",
    " print(\"The number is even\")\n",
    "else:\n",
    " print(\"The number is not even\") \n"
   ]
  },
  {
   "cell_type": "markdown",
   "metadata": {},
   "source": [
    "Check if the floor division of 7 by 3 is equal to the int converted value of 2.7."
   ]
  },
  {
   "cell_type": "code",
   "execution_count": null,
   "metadata": {},
   "outputs": [
    {
     "name": "stdout",
     "output_type": "stream",
     "text": [
      "2\n",
      "2\n",
      "True\n"
     ]
    }
   ],
   "source": [
    "print(7 // 3)\n",
    "print(int(2.7)) \n",
    "print(7 // 3 == int(2.7))"
   ]
  },
  {
   "cell_type": "markdown",
   "metadata": {},
   "source": [
    "Check if type of '10' is equal to type of 10"
   ]
  },
  {
   "cell_type": "code",
   "execution_count": null,
   "metadata": {},
   "outputs": [
    {
     "name": "stdout",
     "output_type": "stream",
     "text": [
      "<class 'str'>\n",
      "<class 'int'>\n"
     ]
    }
   ],
   "source": [
    "print(type('10'))\n",
    "print(type(10))"
   ]
  },
  {
   "cell_type": "markdown",
   "metadata": {},
   "source": [
    "Check if int('9.8') is equal to 10"
   ]
  },
  {
   "cell_type": "code",
   "execution_count": null,
   "metadata": {},
   "outputs": [
    {
     "name": "stdout",
     "output_type": "stream",
     "text": [
      "9\n",
      "10\n",
      "False\n"
     ]
    }
   ],
   "source": [
    "print(int(9.8))\n",
    "print(10)\n",
    "\n",
    "#Check if int(9.8) is equal to 10\n",
    "print(int(9.8) == 10)"
   ]
  },
  {
   "cell_type": "markdown",
   "metadata": {},
   "source": [
    "Writ a script that prompts the user to enter hours and rate per hour. Calculate pay of the person?"
   ]
  },
  {
   "cell_type": "code",
   "execution_count": null,
   "metadata": {},
   "outputs": [],
   "source": [
    "hours = float(input(\"Enter the number of hours: \")) \n",
    "rate_per_hour = float(input(\"Enter the rate per hour: \")) \n",
    "pay = hours * rate_per_hour\n",
    "print(\"Your weekly pay is: \", pay)\n"
   ]
  },
  {
   "cell_type": "markdown",
   "metadata": {},
   "source": [
    "Write a script that prompts the user to enter number of years. Calculate the number of seconds a person can live. Assume a person can live hundred years"
   ]
  },
  {
   "cell_type": "code",
   "execution_count": null,
   "metadata": {},
   "outputs": [],
   "source": [
    "years = int(input(\"Enter the number of years: \"))\n",
    "# Assume a person can live 100 years only.\n",
    "max_years = 100\n",
    "if years > max_years:\n",
    "  print(\"You can live only for: \", max_years * 365 * 24 * 60 * 60, \"seconds\")\n",
    "else:\n",
    "  print(\"You can live for: \", years * 365 * 24 * 60 * 60, \"seconds\")\n",
    "seconds = years * 365 * 24 * 60 * 60\n",
    "print(\"You can live for: \", seconds, \"seconds\")"
   ]
  },
  {
   "cell_type": "markdown",
   "metadata": {},
   "source": [
    "Write a Python script that displays the following table\n",
    "\n",
    "1 1 1 1 1\n",
    "2 1 2 4 8\n",
    "3 1 3 9 27\n",
    "4 1 4 16 64\n",
    "5 1 5 25 125"
   ]
  },
  {
   "cell_type": "code",
   "execution_count": 1,
   "metadata": {},
   "outputs": [
    {
     "name": "stdout",
     "output_type": "stream",
     "text": [
      "1  1   1   1   1\n",
      "2  1   2   4   8\n",
      "3  1   3   9   27\n",
      "4  1   4   16   64\n",
      "5  1   5   25   125\n"
     ]
    }
   ],
   "source": [
    "# Loop to generate the table\n",
    "for n in range(1, 6):\n",
    " print(f\"{n}  {n**0}   {n**1}   {n**2}   {n**3}\")"
   ]
  }
 ],
 "metadata": {
  "kernelspec": {
   "display_name": "Python 3",
   "language": "python",
   "name": "python3"
  },
  "language_info": {
   "codemirror_mode": {
    "name": "ipython",
    "version": 3
   },
   "file_extension": ".py",
   "mimetype": "text/x-python",
   "name": "python",
   "nbconvert_exporter": "python",
   "pygments_lexer": "ipython3",
   "version": "3.10.12"
  }
 },
 "nbformat": 4,
 "nbformat_minor": 2
}
